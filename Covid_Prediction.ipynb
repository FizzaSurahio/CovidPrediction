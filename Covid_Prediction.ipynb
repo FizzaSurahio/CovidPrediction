{
  "cells": [
    {
      "cell_type": "code",
      "execution_count": null,
      "metadata": {
        "id": "yh_h4WYgN0lR"
      },
      "outputs": [],
      "source": [
        "import numpy as np\n",
        "import matplotlib.pyplot as plt\n",
        "\n",
        "import keras\n",
        "from keras.layers import Dense, Conv2D, MaxPool2D, Dropout, Flatten\n",
        "from keras.models import Sequential\n",
        "from keras.preprocessing import image\n",
        "import warnings\n",
        "warnings.filterwarnings(\"ignore\")"
      ]
    },
    {
      "cell_type": "code",
      "execution_count": null,
      "metadata": {
        "colab": {
          "base_uri": "https://localhost:8080/",
          "height": 390
        },
        "id": "okpEBecXYP0j",
        "outputId": "1466e73c-c7a0-44f7-d881-c10018a2df64"
      },
      "outputs": [
        {
          "ename": "FileNotFoundError",
          "evalue": "ignored",
          "output_type": "error",
          "traceback": [
            "\u001b[0;31m---------------------------------------------------------------------------\u001b[0m",
            "\u001b[0;31mFileNotFoundError\u001b[0m                         Traceback (most recent call last)",
            "\u001b[0;32m<ipython-input-11-5777e4ac02ff>\u001b[0m in \u001b[0;36m<cell line: 13>\u001b[0;34m()\u001b[0m\n\u001b[1;32m     11\u001b[0m \u001b[0;34m\u001b[0m\u001b[0m\n\u001b[1;32m     12\u001b[0m \u001b[0mfolder_to_delete4\u001b[0m \u001b[0;34m=\u001b[0m \u001b[0;34m\"/content/CovidSample/test/normal/.ipynb_checkpoints\"\u001b[0m\u001b[0;34m\u001b[0m\u001b[0;34m\u001b[0m\u001b[0m\n\u001b[0;32m---> 13\u001b[0;31m \u001b[0mshutil\u001b[0m\u001b[0;34m.\u001b[0m\u001b[0mrmtree\u001b[0m\u001b[0;34m(\u001b[0m\u001b[0mfolder_to_delete4\u001b[0m\u001b[0;34m)\u001b[0m\u001b[0;34m\u001b[0m\u001b[0;34m\u001b[0m\u001b[0m\n\u001b[0m\u001b[1;32m     14\u001b[0m \u001b[0;34m\u001b[0m\u001b[0m\n\u001b[1;32m     15\u001b[0m \u001b[0mfolder_to_delete5\u001b[0m \u001b[0;34m=\u001b[0m \u001b[0;34m\"/content/CovidSample/train/covid/.ipynb_checkpoints\"\u001b[0m\u001b[0;34m\u001b[0m\u001b[0;34m\u001b[0m\u001b[0m\n",
            "\u001b[0;32m/usr/lib/python3.10/shutil.py\u001b[0m in \u001b[0;36mrmtree\u001b[0;34m(path, ignore_errors, onerror)\u001b[0m\n\u001b[1;32m    713\u001b[0m             \u001b[0morig_st\u001b[0m \u001b[0;34m=\u001b[0m \u001b[0mos\u001b[0m\u001b[0;34m.\u001b[0m\u001b[0mlstat\u001b[0m\u001b[0;34m(\u001b[0m\u001b[0mpath\u001b[0m\u001b[0;34m)\u001b[0m\u001b[0;34m\u001b[0m\u001b[0;34m\u001b[0m\u001b[0m\n\u001b[1;32m    714\u001b[0m         \u001b[0;32mexcept\u001b[0m \u001b[0mException\u001b[0m\u001b[0;34m:\u001b[0m\u001b[0;34m\u001b[0m\u001b[0;34m\u001b[0m\u001b[0m\n\u001b[0;32m--> 715\u001b[0;31m             \u001b[0monerror\u001b[0m\u001b[0;34m(\u001b[0m\u001b[0mos\u001b[0m\u001b[0;34m.\u001b[0m\u001b[0mlstat\u001b[0m\u001b[0;34m,\u001b[0m \u001b[0mpath\u001b[0m\u001b[0;34m,\u001b[0m \u001b[0msys\u001b[0m\u001b[0;34m.\u001b[0m\u001b[0mexc_info\u001b[0m\u001b[0;34m(\u001b[0m\u001b[0;34m)\u001b[0m\u001b[0;34m)\u001b[0m\u001b[0;34m\u001b[0m\u001b[0;34m\u001b[0m\u001b[0m\n\u001b[0m\u001b[1;32m    716\u001b[0m             \u001b[0;32mreturn\u001b[0m\u001b[0;34m\u001b[0m\u001b[0;34m\u001b[0m\u001b[0m\n\u001b[1;32m    717\u001b[0m         \u001b[0;32mtry\u001b[0m\u001b[0;34m:\u001b[0m\u001b[0;34m\u001b[0m\u001b[0;34m\u001b[0m\u001b[0m\n",
            "\u001b[0;32m/usr/lib/python3.10/shutil.py\u001b[0m in \u001b[0;36mrmtree\u001b[0;34m(path, ignore_errors, onerror)\u001b[0m\n\u001b[1;32m    711\u001b[0m         \u001b[0;31m# lstat()/open()/fstat() trick.\u001b[0m\u001b[0;34m\u001b[0m\u001b[0;34m\u001b[0m\u001b[0m\n\u001b[1;32m    712\u001b[0m         \u001b[0;32mtry\u001b[0m\u001b[0;34m:\u001b[0m\u001b[0;34m\u001b[0m\u001b[0;34m\u001b[0m\u001b[0m\n\u001b[0;32m--> 713\u001b[0;31m             \u001b[0morig_st\u001b[0m \u001b[0;34m=\u001b[0m \u001b[0mos\u001b[0m\u001b[0;34m.\u001b[0m\u001b[0mlstat\u001b[0m\u001b[0;34m(\u001b[0m\u001b[0mpath\u001b[0m\u001b[0;34m)\u001b[0m\u001b[0;34m\u001b[0m\u001b[0;34m\u001b[0m\u001b[0m\n\u001b[0m\u001b[1;32m    714\u001b[0m         \u001b[0;32mexcept\u001b[0m \u001b[0mException\u001b[0m\u001b[0;34m:\u001b[0m\u001b[0;34m\u001b[0m\u001b[0;34m\u001b[0m\u001b[0m\n\u001b[1;32m    715\u001b[0m             \u001b[0monerror\u001b[0m\u001b[0;34m(\u001b[0m\u001b[0mos\u001b[0m\u001b[0;34m.\u001b[0m\u001b[0mlstat\u001b[0m\u001b[0;34m,\u001b[0m \u001b[0mpath\u001b[0m\u001b[0;34m,\u001b[0m \u001b[0msys\u001b[0m\u001b[0;34m.\u001b[0m\u001b[0mexc_info\u001b[0m\u001b[0;34m(\u001b[0m\u001b[0;34m)\u001b[0m\u001b[0;34m)\u001b[0m\u001b[0;34m\u001b[0m\u001b[0;34m\u001b[0m\u001b[0m\n",
            "\u001b[0;31mFileNotFoundError\u001b[0m: [Errno 2] No such file or directory: '/content/CovidSample/test/normal/.ipynb_checkpoints'"
          ]
        }
      ],
      "source": [
        "import shutil\n",
        "\n",
        "folder_to_delete1 = \"/content/.ipynb_checkpoints\"\n",
        "shutil.rmtree(folder_to_delete1)\n",
        "\n",
        "folder_to_delete2 = \"/content/CovidSample/.ipynb_checkpoints\"\n",
        "shutil.rmtree(folder_to_delete2)\n",
        "\n",
        "folder_to_delete3 = \"/content/CovidSample/test/covid/.ipynb_checkpoints\"\n",
        "shutil.rmtree(folder_to_delete3)\n",
        "\n",
        "folder_to_delete4 = \"/content/CovidSample/test/normal/.ipynb_checkpoints\"\n",
        "shutil.rmtree(folder_to_delete4)\n",
        "\n",
        "folder_to_delete5 = \"/content/CovidSample/train/covid/.ipynb_checkpoints\"\n",
        "shutil.rmtree(folder_to_delete5)\n",
        "\n",
        "folder_to_delete6 = \"/content/CovidSample/train/normal/.ipynb_checkpoints\"\n",
        "shutil.rmtree(folder_to_delete6)\n",
        "\n",
        "folder_to_delete = \"/content/CovidSample/test/.ipynb_checkpoints\"\n",
        "shutil.rmtree(folder_to_delete)\n",
        "\n",
        "\n",
        "folder_to_deletes = \"/content/CovidSample/train/.ipynb_checkpoints\"\n",
        "shutil.rmtree(folder_to_deletes)\n"
      ]
    },
    {
      "cell_type": "code",
      "execution_count": null,
      "metadata": {
        "colab": {
          "base_uri": "https://localhost:8080/"
        },
        "id": "UEWIKiXMOLVE",
        "outputId": "53d98440-9b9e-4719-ade3-70d837400fc5"
      },
      "outputs": [
        {
          "name": "stdout",
          "output_type": "stream",
          "text": [
            "Found 181 images belonging to 2 classes.\n"
          ]
        }
      ],
      "source": [
        "train_datagen = image.ImageDataGenerator(\n",
        "    rescale = 1/255, horizontal_flip = True, zoom_range = 0.2, shear_range = 0.2\n",
        ")\n",
        "\n",
        "\n",
        "# Assuming 'Week 3' is in your current working directory\n",
        "train_data = train_datagen.flow_from_directory(directory=\"/content/CovidSample/train\", target_size= (256, 256), batch_size=16, class_mode='binary')\n"
      ]
    },
    {
      "cell_type": "code",
      "execution_count": null,
      "metadata": {
        "colab": {
          "base_uri": "https://localhost:8080/"
        },
        "id": "Jt6XhibQO598",
        "outputId": "8ddd5448-a929-4467-a4df-fbad70a2b0ec"
      },
      "outputs": [
        {
          "data": {
            "text/plain": [
              "{'covid': 0, 'normal': 1}"
            ]
          },
          "execution_count": 13,
          "metadata": {},
          "output_type": "execute_result"
        }
      ],
      "source": [
        "train_data.class_indices"
      ]
    },
    {
      "cell_type": "code",
      "execution_count": null,
      "metadata": {
        "colab": {
          "base_uri": "https://localhost:8080/"
        },
        "id": "sbw5hJaCPJtf",
        "outputId": "795b6320-1c8d-4642-c537-bf8338d550aa"
      },
      "outputs": [
        {
          "name": "stdout",
          "output_type": "stream",
          "text": [
            "Found 46 images belonging to 2 classes.\n"
          ]
        }
      ],
      "source": [
        "test_datagen = image.ImageDataGenerator(\n",
        "    rescale = 1/255)\n",
        "\n",
        "\n",
        "# Assuming 'Week 3' is in your current working directory\n",
        "test_data = test_datagen.flow_from_directory(directory=\"/content/CovidSample/test\", target_size=(256, 256), batch_size=16, class_mode='binary')\n"
      ]
    },
    {
      "cell_type": "code",
      "execution_count": null,
      "metadata": {
        "id": "yDffk7M4PYMX"
      },
      "outputs": [],
      "source": [
        "model = Sequential()\n",
        "\n",
        "model.add(Conv2D(filters=32,kernel_size=(3,3), activation='relu', input_shape=(256,256,3)))\n",
        "\n",
        "model.add(Conv2D(filters=64,kernel_size=(3,3), activation='relu'))\n",
        "model.add(MaxPool2D())\n",
        "model.add(Dropout(rate=0.25))\n",
        "\n",
        "model.add(Conv2D(filters=64,kernel_size=(3,3), activation='relu'))\n",
        "model.add(MaxPool2D())\n",
        "model.add(Dropout(rate=0.25))\n",
        "\n",
        "model.add(Conv2D(filters=128,kernel_size=(3,3), activation='relu'))\n",
        "model.add(MaxPool2D())\n",
        "model.add(Dropout(rate=0.25))\n",
        "\n",
        "model.add(Flatten())\n",
        "model.add(Dense(units = 64, activation='relu'))\n",
        "model.add(Dropout(rate=0.50))\n",
        "model.add(Dense(units = 1, activation='sigmoid'))\n",
        "\n",
        "\n",
        "model.compile(loss='binary_crossentropy', optimizer='adam', metrics=['acc'])\n"
      ]
    },
    {
      "cell_type": "code",
      "execution_count": null,
      "metadata": {
        "colab": {
          "base_uri": "https://localhost:8080/"
        },
        "id": "REArk2f3PeWO",
        "outputId": "94acbc03-fa79-46d2-9159-fb97940385cc"
      },
      "outputs": [
        {
          "name": "stdout",
          "output_type": "stream",
          "text": [
            "Model: \"sequential\"\n",
            "_________________________________________________________________\n",
            " Layer (type)                Output Shape              Param #   \n",
            "=================================================================\n",
            " conv2d (Conv2D)             (None, 254, 254, 32)      896       \n",
            "                                                                 \n",
            " conv2d_1 (Conv2D)           (None, 252, 252, 64)      18496     \n",
            "                                                                 \n",
            " max_pooling2d (MaxPooling2  (None, 126, 126, 64)      0         \n",
            " D)                                                              \n",
            "                                                                 \n",
            " dropout (Dropout)           (None, 126, 126, 64)      0         \n",
            "                                                                 \n",
            " conv2d_2 (Conv2D)           (None, 124, 124, 64)      36928     \n",
            "                                                                 \n",
            " max_pooling2d_1 (MaxPoolin  (None, 62, 62, 64)        0         \n",
            " g2D)                                                            \n",
            "                                                                 \n",
            " dropout_1 (Dropout)         (None, 62, 62, 64)        0         \n",
            "                                                                 \n",
            " conv2d_3 (Conv2D)           (None, 60, 60, 128)       73856     \n",
            "                                                                 \n",
            " max_pooling2d_2 (MaxPoolin  (None, 30, 30, 128)       0         \n",
            " g2D)                                                            \n",
            "                                                                 \n",
            " dropout_2 (Dropout)         (None, 30, 30, 128)       0         \n",
            "                                                                 \n",
            " flatten (Flatten)           (None, 115200)            0         \n",
            "                                                                 \n",
            " dense (Dense)               (None, 64)                7372864   \n",
            "                                                                 \n",
            " dropout_3 (Dropout)         (None, 64)                0         \n",
            "                                                                 \n",
            " dense_1 (Dense)             (None, 1)                 65        \n",
            "                                                                 \n",
            "=================================================================\n",
            "Total params: 7503105 (28.62 MB)\n",
            "Trainable params: 7503105 (28.62 MB)\n",
            "Non-trainable params: 0 (0.00 Byte)\n",
            "_________________________________________________________________\n"
          ]
        }
      ],
      "source": [
        "model.summary()"
      ]
    },
    {
      "cell_type": "code",
      "execution_count": null,
      "metadata": {
        "colab": {
          "background_save": true,
          "base_uri": "https://localhost:8080/"
        },
        "id": "kpp4Znc4PpHa",
        "outputId": "4d38a3f9-4de5-41e0-e73e-b9a2628b36b3"
      },
      "outputs": [
        {
          "name": "stdout",
          "output_type": "stream",
          "text": [
            "Epoch 1/10\n",
            "8/8 [==============================] - 54s 6s/step - loss: 1.4141 - acc: 0.6154 - val_loss: 0.6877 - val_acc: 0.6250\n",
            "Epoch 2/10\n",
            "8/8 [==============================] - 49s 7s/step - loss: 0.6475 - acc: 0.6496 - val_loss: 0.6551 - val_acc: 0.5938\n",
            "Epoch 3/10\n",
            "8/8 [==============================] - 53s 7s/step - loss: 0.6886 - acc: 0.6154 - val_loss: 0.6499 - val_acc: 0.9062\n",
            "Epoch 4/10\n",
            "8/8 [==============================] - 51s 6s/step - loss: 0.6141 - acc: 0.7265 - val_loss: 0.5497 - val_acc: 0.9375\n",
            "Epoch 5/10\n",
            "8/8 [==============================] - 49s 6s/step - loss: 0.4405 - acc: 0.8462 - val_loss: 0.2451 - val_acc: 0.9688\n",
            "Epoch 6/10\n",
            "8/8 [==============================] - 58s 7s/step - loss: 0.2700 - acc: 0.8906 - val_loss: 0.1761 - val_acc: 0.9375\n",
            "Epoch 7/10\n",
            "8/8 [==============================] - 51s 7s/step - loss: 0.3515 - acc: 0.8718 - val_loss: 0.3732 - val_acc: 0.8438\n",
            "Epoch 8/10\n",
            "8/8 [==============================] - 57s 7s/step - loss: 0.3570 - acc: 0.8594 - val_loss: 0.2000 - val_acc: 0.9688\n",
            "Epoch 9/10\n",
            "8/8 [==============================] - 49s 6s/step - loss: 0.2545 - acc: 0.8889 - val_loss: 0.2667 - val_acc: 0.9062\n",
            "Epoch 10/10\n",
            "8/8 [==============================] - 54s 7s/step - loss: 0.2340 - acc: 0.9141 - val_loss: 0.1468 - val_acc: 0.9375\n"
          ]
        },
        {
          "data": {
            "text/plain": [
              "<keras.src.callbacks.History at 0x7f3bacac3c10>"
            ]
          },
          "execution_count": 16,
          "metadata": {},
          "output_type": "execute_result"
        }
      ],
      "source": [
        "model.fit_generator(train_data, steps_per_epoch=8, epochs=10, validation_steps=2, validation_data=test_data)"
      ]
    }
  ],
  "metadata": {
    "colab": {
      "provenance": []
    },
    "kernelspec": {
      "display_name": "Python 3",
      "name": "python3"
    },
    "language_info": {
      "name": "python"
    }
  },
  "nbformat": 4,
  "nbformat_minor": 0
}